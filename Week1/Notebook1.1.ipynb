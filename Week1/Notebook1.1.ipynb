{
  "cells": [
    {
      "cell_type": "markdown",
      "metadata": {
        "id": "view-in-github",
        "colab_type": "text"
      },
      "source": [
        "<a href=\"https://colab.research.google.com/github/Walidsati/AAI_612O/blob/main/Week1/Notebook1.1.ipynb\" target=\"_parent\"><img src=\"https://colab.research.google.com/assets/colab-badge.svg\" alt=\"Open In Colab\"/></a>"
      ]
    },
    {
      "cell_type": "markdown",
      "metadata": {
        "jp-MarkdownHeadingCollapsed": true,
        "id": "2wXuVv5yGEmc"
      },
      "source": [
        "\n",
        "# AAI612: Deep Learning & its Applications\n",
        "\n",
        "*Notebook 1.1: Using the perceptron for linear fitting*\n",
        "\n"
      ]
    },
    {
      "cell_type": "markdown",
      "metadata": {
        "id": "ZIAkIlfmCe1B"
      },
      "source": [
        "Notebook 1.1"
      ]
    },
    {
      "cell_type": "markdown",
      "metadata": {
        "id": "fA93WUy1zzWf"
      },
      "source": [
        "In this notebook, we will perform linear regression using a single neuron.  We will be using `TensorFlow` and `Keras`; however, do not worry about the details of the language for the moment as we will get back to these later on.\n",
        "\n",
        "The simple mode we will be looking at will learn the relationship between two numbers and will be used to predict other numbers. For example, if you were writing code for a function like this:\n",
        "\n",
        "\n",
        "```\n",
        "y = mx + b\n",
        "```\n",
        "\n",
        "How would you train a neural network to do the equivalent task? Well, we said using data, a lot of data! The approach is to feed the model with a set of Xs, and a set of Ys, it should be able to figure out the relationship between them."
      ]
    },
    {
      "cell_type": "markdown",
      "metadata": {
        "id": "o7J_pWaCGEme"
      },
      "source": [
        "# Linear Regression"
      ]
    },
    {
      "cell_type": "markdown",
      "metadata": {
        "id": "QLpNFgtwGEme"
      },
      "source": [
        "Let us start by linear regression.   Assume we have the following simple dataset.  We can easily fit using `polyfit():`"
      ]
    },
    {
      "cell_type": "code",
      "execution_count": 1,
      "metadata": {
        "id": "P_3Ow7AbGEme"
      },
      "outputs": [],
      "source": [
        "from numpy.polynomial.polynomial import polyfit\n",
        "import matplotlib.pyplot as plt\n",
        "import numpy as np\n",
        "\n",
        "\n",
        "x = np.array([ 0,  1,  2,  3,  4,  5,  6,  7,  8,  9])\n",
        "y = np.array([10, 20, 25, 30, 40, 45, 40, 50, 60, 55])"
      ]
    },
    {
      "cell_type": "markdown",
      "metadata": {
        "id": "ldbGo3NGGEmf"
      },
      "source": [
        "Let us explore the data!"
      ]
    },
    {
      "cell_type": "code",
      "execution_count": 2,
      "metadata": {
        "id": "IhQJ7V9mGEmf",
        "outputId": "bcf66796-4442-4b5d-9c6b-9cef56d71d3e",
        "colab": {
          "base_uri": "https://localhost:8080/",
          "height": 430
        }
      },
      "outputs": [
        {
          "output_type": "display_data",
          "data": {
            "text/plain": [
              "<Figure size 640x480 with 1 Axes>"
            ],
            "image/png": "[encoded data removed]"
          },
          "metadata": {}
        }
      ],
      "source": [
        "plt.plot(x, y, '.')\n",
        "plt.show()"
      ]
    },
    {
      "cell_type": "markdown",
      "metadata": {
        "id": "lIAYp2hpGEmg"
      },
      "source": [
        "Now, let us see how we can best fit this data using the `polyfit`:"
      ]
    },
    {
      "cell_type": "code",
      "execution_count": 3,
      "metadata": {
        "id": "m4UaW9F4GEmg"
      },
      "outputs": [],
      "source": [
        "b, m = polyfit(x,y,1)\n",
        "\n",
        "y_hat = m*x+b"
      ]
    },
    {
      "cell_type": "markdown",
      "metadata": {
        "id": "oRzNXTwBGEmg"
      },
      "source": [
        "The above data fit results with the following equation:"
      ]
    },
    {
      "cell_type": "code",
      "execution_count": 4,
      "metadata": {
        "id": "S1Ekd8EmGEmg",
        "outputId": "01f3efd6-7335-4df7-f695-692c3158428e",
        "colab": {
          "base_uri": "https://localhost:8080/"
        }
      },
      "outputs": [
        {
          "output_type": "stream",
          "name": "stdout",
          "text": [
            "Equation that best fits the data is: Y = 5.12 * x + 14.45\n"
          ]
        }
      ],
      "source": [
        "print(\"Equation that best fits the data is: Y = %2.2f * x + %5.2f\" % (m,b))"
      ]
    },
    {
      "cell_type": "markdown",
      "metadata": {
        "id": "73uZ50ggGEmg"
      },
      "source": [
        "and now, let us see how it fits visually:"
      ]
    },
    {
      "cell_type": "code",
      "execution_count": 5,
      "metadata": {
        "id": "Hs3XEs9RGEmh",
        "outputId": "37fc36aa-1399-44f0-c814-4f47bef3c325",
        "colab": {
          "base_uri": "https://localhost:8080/",
          "height": 430
        }
      },
      "outputs": [
        {
          "output_type": "display_data",
          "data": {
            "text/plain": [
              "<Figure size 640x480 with 1 Axes>"
            ],
            "image/png": "[encoded data removed]"
          },
          "metadata": {}
        }
      ],
      "source": [
        "plt.plot(x, y, '.')\n",
        "plt.plot(x, y_hat, '-')\n",
        "plt.show()"
      ]
    },
    {
      "cell_type": "markdown",
      "metadata": {
        "id": "Z3QsPgEPGEmh"
      },
      "source": [
        "Let us predict y for x = 10"
      ]
    },
    {
      "cell_type": "code",
      "execution_count": 6,
      "metadata": {
        "id": "nzcth_mqGEmh",
        "outputId": "b15fa37f-df47-4b80-9f21-9b3577fe2af2",
        "colab": {
          "base_uri": "https://localhost:8080/"
        }
      },
      "outputs": [
        {
          "output_type": "stream",
          "name": "stdout",
          "text": [
            "65.66666666666664\n"
          ]
        }
      ],
      "source": [
        "x = 10\n",
        "print(m*x+b)"
      ]
    },
    {
      "cell_type": "markdown",
      "metadata": {
        "id": "Ijw7GgcaGEmh"
      },
      "source": [
        "Now, let us try this all over again using one neuron.  We will be using `Keras` and `TesnorFlow`."
      ]
    },
    {
      "cell_type": "markdown",
      "metadata": {
        "id": "DzbtdRcZDO9B"
      },
      "source": [
        "## Imports\n",
        "\n",
        "Let's start with our imports. Here we are importing 'TensorFlow' and calling it tf for ease of use.  We do of course need to import `numpy`, which helps us to represent our data as lists easily and quickly.  Finally, the framework for defining a neural network as a set of Sequential layers is called keras, so we import that too."
      ]
    },
    {
      "cell_type": "code",
      "execution_count": 7,
      "metadata": {
        "id": "X9uIpOS2zx7k",
        "outputId": "039043e0-e3e7-4bb1-e22d-d4b22dc224b5",
        "colab": {
          "base_uri": "https://localhost:8080/"
        }
      },
      "outputs": [
        {
          "output_type": "stream",
          "name": "stdout",
          "text": [
            "2.18.0\n"
          ]
        }
      ],
      "source": [
        "import tensorflow as tf\n",
        "import numpy as np\n",
        "from tensorflow import keras\n",
        "\n",
        "print(tf.__version__)"
      ]
    },
    {
      "cell_type": "markdown",
      "metadata": {
        "id": "wwJGmDrQ0EoB"
      },
      "source": [
        "## Define and Compile the Neural Network\n",
        "\n",
        "Next we will create the simplest possible neural network. It has 1 layer, and that layer has 1 neuron, and the input shape to it is just 1 value."
      ]
    },
    {
      "cell_type": "code",
      "execution_count": 8,
      "metadata": {
        "id": "kQFAr_xo0M4T",
        "outputId": "7fae5ba1-398b-42b3-c4af-d1f257b583da",
        "colab": {
          "base_uri": "https://localhost:8080/"
        }
      },
      "outputs": [
        {
          "output_type": "stream",
          "name": "stderr",
          "text": [
            "/usr/local/lib/python3.11/dist-packages/keras/src/layers/core/dense.py:87: UserWarning: Do not pass an `input_shape`/`input_dim` argument to a layer. When using Sequential models, prefer using an `Input(shape)` object as the first layer in the model instead.\n",
            "  super().__init__(activity_regularizer=activity_regularizer, **kwargs)\n"
          ]
        }
      ],
      "source": [
        "model = tf.keras.Sequential([keras.layers.Dense(units=1, input_shape=[1])])"
      ]
    },
    {
      "cell_type": "markdown",
      "metadata": {
        "id": "KhjZjZ-c0Ok9"
      },
      "source": [
        "Now we compile our Neural Network. When we do so, we have to specify 2 functions, a loss and an optimizer.\n",
        "\n",
        "If you've seen lots of math for machine learning, here's where it's usually used, but in this case it's nicely encapsulated in functions for you. But what happens here — let's explain...\n",
        "\n",
        "We know that in our function, the relationship between the numbers is Y = 5.12 * x + 14.45.\n",
        "\n",
        "When the computer is trying to 'learn' that, it makes a guess...maybe y=10x+10. The LOSS function measures the guessed answers against the known correct answers and measures how well or how badly it did.\n",
        "\n",
        "It then uses the OPTIMIZER function to make another guess. Based on how the loss function went, it will try to minimize the loss. At that point maybe it will come up with somehting like y=5x+5, which, while still pretty bad, is closer to the correct result (i.e. the loss is lower)\n",
        "\n",
        "It will repeat this for the number of EPOCHS which you will see shortly. But first, here's how we tell it to use 'MEAN SQUARED ERROR' for the loss and 'STOCHASTIC GRADIENT DESCENT' for the optimizer. You don't need to understand the math for these yet, but you can see that they work! :)\n",
        "\n",
        "Over time you will learn the different and appropriate loss and optimizer functions for different scenarios.\n"
      ]
    },
    {
      "cell_type": "code",
      "execution_count": 9,
      "metadata": {
        "id": "m8YQN1H41L-Y"
      },
      "outputs": [],
      "source": [
        "model.compile(optimizer='sgd', loss='mean_squared_error')"
      ]
    },
    {
      "cell_type": "markdown",
      "metadata": {
        "id": "5QyOUhFw1OUX"
      },
      "source": [
        "## Providing the Data\n",
        "\n",
        "Next up we'll feed in some data. In this case we are taking 6 xs and 6ys. You can see that the relationship between these is that y=2x-1, so where x = -1, y=-3 etc. etc.\n",
        "\n",
        "A python library called 'Numpy' provides lots of array type data structures that are a defacto standard way of doing it. We declare that we want to use these by specifying the values as an np.array[]"
      ]
    },
    {
      "cell_type": "markdown",
      "metadata": {
        "id": "3J0scmk0GEmi"
      },
      "source": [
        "### Let us try this dataset!"
      ]
    },
    {
      "cell_type": "markdown",
      "metadata": {
        "id": "9ZvI31QHGEmi"
      },
      "source": [
        "Comment the above data set and try this one now:"
      ]
    },
    {
      "cell_type": "code",
      "execution_count": 10,
      "metadata": {
        "id": "tCFNFG8AGEmi"
      },
      "outputs": [],
      "source": [
        "xs = np.array([ 0,  1,  2,  3,  4,  5,  6,  7,  8,  9])\n",
        "ys = np.array([10, 20, 25, 30, 40, 45, 40, 50, 60, 55])"
      ]
    },
    {
      "cell_type": "markdown",
      "metadata": {
        "id": "n_YcWRElnM_b"
      },
      "source": [
        "# Training the Neural Network"
      ]
    },
    {
      "cell_type": "markdown",
      "metadata": {
        "id": "c-Jk4dG91dvD"
      },
      "source": [
        "The process of training the neural network, where it 'learns' the relationship between the Xs and Ys is in the **model.fit**  call. This is where it will go through the loop we spoke about above, making a guess, measuring how good or bad it is (aka the loss), using the opimizer to make another guess etc. It will do it for the number of epochs you specify. When you run this code, you'll see the loss on the right hand side."
      ]
    },
    {
      "cell_type": "code",
      "execution_count": 11,
      "metadata": {
        "id": "lpRrl7WK10Pq"
      },
      "outputs": [],
      "source": [
        "from keras.callbacks import History\n",
        "history = History()\n",
        "\n",
        "x = model.fit(xs, ys, epochs=500, callbacks=[history], verbose=0)"
      ]
    },
    {
      "cell_type": "markdown",
      "metadata": {
        "id": "kaFIr71H2OZ-"
      },
      "source": [
        "Ok, that we have a model that we have trained to learn the relationship between X and Y, we can use the **model.predict** method to have it figure out the Y for a previously unknown X. So, for example, if X = 2, what do you think Y will be? Take a guess before you run this code:"
      ]
    },
    {
      "cell_type": "code",
      "execution_count": 12,
      "metadata": {
        "id": "r_EHsnRSGEmi",
        "outputId": "388a33e5-e72e-436d-b7c0-df2c9958e6b4",
        "colab": {
          "base_uri": "https://localhost:8080/"
        }
      },
      "outputs": [
        {
          "output_type": "stream",
          "name": "stdout",
          "text": [
            "{'loss': [1867.7021484375, 376.2539367675781, 118.12254333496094, 73.06745910644531, 64.82913970947266, 62.95650100708008, 62.18870162963867, 61.61675262451172, 61.0836067199707, 60.56206130981445, 60.047325134277344, 59.53858184814453, 59.03559494018555, 58.53827667236328, 58.04655838012695, 57.56035614013672, 57.07965850830078, 56.6043701171875, 56.134429931640625, 55.6697883605957, 55.210365295410156, 54.756126403808594, 54.306983947753906, 53.862937927246094, 53.423858642578125, 52.9897346496582, 52.560516357421875, 52.13611602783203, 51.71649169921875, 51.301612854003906, 50.89137649536133, 50.48578643798828, 50.08475112915039, 49.68824768066406, 49.29620361328125, 48.9085693359375, 48.52531051635742, 48.1463508605957, 47.771663665771484, 47.401214599609375, 47.0349235534668, 46.67275619506836, 46.314674377441406, 45.960628509521484, 45.61056900024414, 45.264442443847656, 44.922218322753906, 44.58384323120117, 44.249290466308594, 43.918495178222656, 43.5914306640625, 43.268043518066406, 42.94831848144531, 42.632179260253906, 42.3195915222168, 42.01054000854492, 41.7049560546875, 41.40283966064453, 41.104103088378906, 40.80873489379883, 40.516693115234375, 40.22793960571289, 39.942440032958984, 39.66016387939453, 39.38105392456055, 39.105106353759766, 38.832244873046875, 38.56247329711914, 38.295738220214844, 38.031982421875, 37.771217346191406, 37.51338577270508, 37.25847625732422, 37.006412506103516, 36.75718688964844, 36.510780334472656, 36.26716232299805, 36.02626419067383, 35.78809356689453, 35.55259704589844, 35.31975555419922, 35.08951950073242, 34.861915588378906, 34.63683319091797, 34.41431427001953, 34.194297790527344, 33.97675323486328, 33.76166534423828, 33.54898452758789, 33.338706970214844, 33.130794525146484, 32.92523956298828, 32.721988677978516, 32.521018981933594, 32.322322845458984, 32.12586212158203, 31.931615829467773, 31.739559173583984, 31.54966163635254, 31.361902236938477, 31.176250457763672, 30.992700576782227, 30.81121253967285, 30.631771087646484, 30.4543514251709, 30.2789306640625, 30.105478286743164, 29.933990478515625, 29.764429092407227, 29.59678077697754, 29.431018829345703, 29.267114639282227, 29.105072021484375, 28.944843292236328, 28.786422729492188, 28.629785537719727, 28.474905014038086, 28.3217830657959, 28.170385360717773, 28.020675659179688, 27.872665405273438, 27.726322174072266, 27.581623077392578, 27.438552856445312, 27.297100067138672, 27.157241821289062, 27.018951416015625, 26.882221221923828, 26.747034072875977, 26.613361358642578, 26.481191635131836, 26.350521087646484, 26.221317291259766, 26.09357261657715, 25.967260360717773, 25.84238052368164, 25.718902587890625, 25.596817016601562, 25.476093292236328, 25.35674285888672, 25.238739013671875, 25.12205696105957, 25.006690979003906, 24.892621994018555, 24.77984046936035, 24.66832733154297, 24.55807113647461, 24.44904899597168, 24.341264724731445, 24.234697341918945, 24.12932777404785, 24.025135040283203, 23.922122955322266, 23.820266723632812, 23.719560623168945, 23.61998748779297, 23.521549224853516, 23.424205780029297, 23.327959060668945, 23.232797622680664, 23.138717651367188, 23.045686721801758, 22.95369529724121, 22.86276626586914, 22.772836685180664, 22.683931350708008, 22.596027374267578, 22.50910186767578, 22.423168182373047, 22.338199615478516, 22.25418472290039, 22.171123504638672, 22.088987350463867, 22.00778579711914, 21.927486419677734, 21.848114013671875, 21.769609451293945, 21.69199562072754, 21.615262985229492, 21.539386749267578, 21.464378356933594, 21.39020538330078, 21.316869735717773, 21.244361877441406, 21.172664642333984, 21.10177993774414, 21.031692504882812, 20.9623966217041, 20.893884658813477, 20.82613754272461, 20.7591552734375, 20.692928314208984, 20.627439498901367, 20.562698364257812, 20.498685836791992, 20.435386657714844, 20.372814178466797, 20.310932159423828, 20.24974822998047, 20.18926239013672, 20.12944984436035, 20.070316314697266, 20.0118408203125, 19.954030990600586, 19.89686393737793, 19.84035873413086, 19.784469604492188, 19.72922134399414, 19.67458724975586, 19.620580673217773, 19.56716537475586, 19.51436996459961, 19.4621524810791, 19.41054344177246, 19.3595027923584, 19.309019088745117, 19.25912857055664, 19.209802627563477, 19.161022186279297, 19.11280059814453, 19.06511116027832, 19.01796531677246, 18.97134017944336, 18.925247192382812, 18.879669189453125, 18.834609985351562, 18.790054321289062, 18.74600601196289, 18.702465057373047, 18.659387588500977, 18.6168155670166, 18.574705123901367, 18.5330867767334, 18.491926193237305, 18.451236724853516, 18.410991668701172, 18.37120819091797, 18.331878662109375, 18.292991638183594, 18.254535675048828, 18.21651840209961, 18.17892837524414, 18.141759872436523, 18.10500717163086, 18.06867218017578, 18.03274154663086, 17.997222900390625, 17.962100982666016, 17.927371978759766, 17.893035888671875, 17.859092712402344, 17.82552719116211, 17.792333602905273, 17.759517669677734, 17.72707176208496, 17.694997787475586, 17.66327476501465, 17.631919860839844, 17.60091209411621, 17.57024574279785, 17.539941787719727, 17.50996971130371, 17.480335235595703, 17.451025009155273, 17.422061920166016, 17.393415451049805, 17.365095138549805, 17.33709716796875, 17.309406280517578, 17.282032012939453, 17.25497055053711, 17.22820472717285, 17.20173454284668, 17.175582885742188, 17.14971160888672, 17.124126434326172, 17.09884262084961, 17.073843002319336, 17.049121856689453, 17.024677276611328, 17.000507354736328, 16.976612091064453, 16.952980041503906, 16.929622650146484, 16.90652084350586, 16.883686065673828, 16.861103057861328, 16.838775634765625, 16.81670379638672, 16.794879913330078, 16.7733097076416, 16.7519588470459, 16.730863571166992, 16.71000862121582, 16.689376831054688, 16.668987274169922, 16.648822784423828, 16.628894805908203, 16.609176635742188, 16.589689254760742, 16.57042121887207, 16.551372528076172, 16.532527923583984, 16.5139102935791, 16.495494842529297, 16.477291107177734, 16.459278106689453, 16.441469192504883, 16.423877716064453, 16.406478881835938, 16.389265060424805, 16.37225341796875, 16.35543441772461, 16.338804244995117, 16.322364807128906, 16.306110382080078, 16.290023803710938, 16.27413558959961, 16.2584171295166, 16.242881774902344, 16.227519989013672, 16.21232795715332, 16.19730567932129, 16.18246078491211, 16.167776107788086, 16.153261184692383, 16.138904571533203, 16.124717712402344, 16.110685348510742, 16.09680938720703, 16.083091735839844, 16.06952476501465, 16.056116104125977, 16.0428524017334, 16.029747009277344, 16.01677703857422, 16.00396156311035, 15.991292953491211, 15.978761672973633, 15.966379165649414, 15.954122543334961, 15.942011833190918, 15.930041313171387, 15.918197631835938, 15.90649700164795, 15.894914627075195, 15.883471488952637, 15.872152328491211, 15.86095905303955, 15.849905014038086, 15.838968276977539, 15.828158378601074, 15.817461967468262, 15.806892395019531, 15.79643726348877, 15.786105155944824, 15.77588176727295, 15.765779495239258, 15.755790710449219, 15.745915412902832, 15.7361478805542, 15.726499557495117, 15.716938972473145, 15.70750617980957, 15.698171615600586, 15.688947677612305, 15.679821968078613, 15.670791625976562, 15.661874771118164, 15.653053283691406, 15.644332885742188, 15.635713577270508, 15.627191543579102, 15.618762016296387, 15.61042594909668, 15.602185249328613, 15.594037055969238, 15.585988998413086, 15.578018188476562, 15.57013988494873, 15.562359809875488, 15.554658889770508, 15.547050476074219, 15.539523124694824, 15.532076835632324, 15.524713516235352, 15.517451286315918, 15.51025390625, 15.503143310546875, 15.496111869812012, 15.489152908325195, 15.482284545898438, 15.475481033325195, 15.468759536743164, 15.462120056152344, 15.455546379089355, 15.44904899597168, 15.442632675170898, 15.436286926269531, 15.43000602722168, 15.423789978027344, 15.41765308380127, 15.411585807800293, 15.405588150024414, 15.399650573730469, 15.39378547668457, 15.387990951538086, 15.38224983215332, 15.376585006713867, 15.370973587036133, 15.365437507629395, 15.359947204589844, 15.354536056518555, 15.349172592163086, 15.343877792358398, 15.33862590789795, 15.333453178405762, 15.328336715698242, 15.323269844055176, 15.318263053894043, 15.313319206237793, 15.30842113494873, 15.303584098815918, 15.298799514770508, 15.294069290161133, 15.289398193359375, 15.284771919250488, 15.280195236206055, 15.275675773620605, 15.271207809448242, 15.26678466796875, 15.262420654296875, 15.258096694946289, 15.253817558288574, 15.249597549438477, 15.24542236328125, 15.241297721862793, 15.237213134765625, 15.233172416687012, 15.2291841506958, 15.225242614746094, 15.221334457397461, 15.21747875213623, 15.213656425476074, 15.209890365600586, 15.20616626739502, 15.202471733093262, 15.198826789855957, 15.195225715637207, 15.191662788391113, 15.188133239746094, 15.184649467468262, 15.181211471557617, 15.1777982711792, 15.1744384765625, 15.171104431152344, 15.167814254760742, 15.164552688598633, 15.161333084106445, 15.15815544128418, 15.155006408691406, 15.15190315246582, 15.148828506469727, 15.145782470703125, 15.142778396606445, 15.139798164367676, 15.136860847473145, 15.13395881652832, 15.131074905395508, 15.12823486328125, 15.125432014465332, 15.122650146484375, 15.119900703430176, 15.11719036102295, 15.114506721496582, 15.111851692199707, 15.109225273132324, 15.106623649597168, 15.104059219360352, 15.101526260375977, 15.099029541015625, 15.096542358398438, 15.094087600708008, 15.091659545898438, 15.089263916015625, 15.086894035339355, 15.084548950195312, 15.082231521606445, 15.07994270324707, 15.077670097351074, 15.075434684753418, 15.073221206665039, 15.071026802062988, 15.068868637084961, 15.066723823547363, 15.064603805541992, 15.062517166137695, 15.060449600219727, 15.05839729309082, 15.056373596191406]}\n"
          ]
        }
      ],
      "source": [
        "print(x.history)"
      ]
    },
    {
      "cell_type": "code",
      "execution_count": 13,
      "metadata": {
        "id": "Bi04P4QqGEmi",
        "outputId": "aa249a6e-9418-48f7-f553-e56bd8736427",
        "colab": {
          "base_uri": "https://localhost:8080/",
          "height": 448
        }
      },
      "outputs": [
        {
          "output_type": "execute_result",
          "data": {
            "text/plain": [
              "<Axes: >"
            ]
          },
          "metadata": {},
          "execution_count": 13
        },
        {
          "output_type": "display_data",
          "data": {
            "text/plain": [
              "<Figure size 640x480 with 1 Axes>"
            ],
            "image/png": "[encoded data removed]"
          },
          "metadata": {}
        }
      ],
      "source": [
        "import seaborn as sns\n",
        "sns.lineplot(data=x.history['loss'])"
      ]
    },
    {
      "cell_type": "code",
      "execution_count": 14,
      "metadata": {
        "id": "QTDA-X5TGEmi",
        "outputId": "1fc48c0f-8b5f-4a98-9793-fc46039376b7",
        "colab": {
          "base_uri": "https://localhost:8080/"
        }
      },
      "outputs": [
        {
          "output_type": "stream",
          "name": "stdout",
          "text": [
            "\u001b[1m1/1\u001b[0m \u001b[32m━━━━━━━━━━━━━━━━━━━━\u001b[0m\u001b[37m\u001b[0m \u001b[1m0s\u001b[0m 100ms/step\n"
          ]
        },
        {
          "output_type": "execute_result",
          "data": {
            "text/plain": [
              "array([[66.129814]], dtype=float32)"
            ]
          },
          "metadata": {},
          "execution_count": 14
        }
      ],
      "source": [
        "model.predict(np.array([10]))"
      ]
    },
    {
      "cell_type": "markdown",
      "metadata": {
        "id": "btF2CSFH2iEX"
      },
      "source": [
        "You might have thought 65, right? But it ended up being a little over. Why do you think that is?\n",
        "\n",
        "Remember that neural networks deal with probabilities, so given the data that we fed the NN with, it calculated that there is a very high probability that the relationship between X and Y is Y = 5.12 * x + 14.45, but with only 10 data points we can't know for sure. As a result, the result for 10 is very close to 65, but not necessarily 65.\n",
        "\n",
        "As you work with neural networks, you'll see this pattern recurring. You will almost always deal with probabilities, not certainties, and will do a little bit of coding to figure out what the result is based on the probabilities, particularly when it comes to classification.\n"
      ]
    },
    {
      "cell_type": "code",
      "source": [
        "import numpy as np\n",
        "import tensorflow as tf\n",
        "from tensorflow import keras\n",
        "import matplotlib.pyplot as plt\n",
        "import pandas as pd"
      ],
      "metadata": {
        "id": "jgl2ymyIMJue"
      },
      "execution_count": 15,
      "outputs": []
    },
    {
      "cell_type": "code",
      "source": [
        "df = pd.read_csv('nelson.csv')"
      ],
      "metadata": {
        "id": "LEl1ow59J6ot"
      },
      "execution_count": 16,
      "outputs": []
    },
    {
      "cell_type": "code",
      "source": [
        "df"
      ],
      "metadata": {
        "id": "SSpx_3x0KB2w",
        "outputId": "1bec0b65-8322-437a-ea7b-2898ad455319",
        "colab": {
          "base_uri": "https://localhost:8080/",
          "height": 426
        }
      },
      "execution_count": 17,
      "outputs": [
        {
          "output_type": "execute_result",
          "data": {
            "text/plain": [
              "       y    x1   x2\n",
              "0   55.0  1.50  350\n",
              "1   51.0  3.00  450\n",
              "2   60.0  1.75  300\n",
              "3   75.0  1.00  450\n",
              "4   55.5  3.10  385\n",
              "5   49.0  1.60  210\n",
              "6   65.0  2.30  380\n",
              "7   61.5  2.00  600\n",
              "8   55.0  4.00  450\n",
              "9   45.0  5.00  325\n",
              "10  75.0  0.65  424\n",
              "11  65.0  2.00  285"
            ],
            "text/html": [
              "\n",
              "  <div id=\"df-10a57099-5c93-48c4-90d5-39307e6fcc65\" class=\"colab-df-container\">\n",
              "    <div>\n",
              "<style scoped>\n",
              "    .dataframe tbody tr th:only-of-type {\n",
              "        vertical-align: middle;\n",
              "    }\n",
              "\n",
              "    .dataframe tbody tr th {\n",
              "        vertical-align: top;\n",
              "    }\n",
              "\n",
              "    .dataframe thead th {\n",
              "        text-align: right;\n",
              "    }\n",
              "</style>\n",
              "<table border=\"1\" class=\"dataframe\">\n",
              "  <thead>\n",
              "    <tr style=\"text-align: right;\">\n",
              "      <th></th>\n",
              "      <th>y</th>\n",
              "      <th>x1</th>\n",
              "      <th>x2</th>\n",
              "    </tr>\n",
              "  </thead>\n",
              "  <tbody>\n",
              "    <tr>\n",
              "      <th>0</th>\n",
              "      <td>55.0</td>\n",
              "      <td>1.50</td>\n",
              "      <td>350</td>\n",
              "    </tr>\n",
              "    <tr>\n",
              "      <th>1</th>\n",
              "      <td>51.0</td>\n",
              "      <td>3.00</td>\n",
              "      <td>450</td>\n",
              "    </tr>\n",
              "    <tr>\n",
              "      <th>2</th>\n",
              "      <td>60.0</td>\n",
              "      <td>1.75</td>\n",
              "      <td>300</td>\n",
              "    </tr>\n",
              "    <tr>\n",
              "      <th>3</th>\n",
              "      <td>75.0</td>\n",
              "      <td>1.00</td>\n",
              "      <td>450</td>\n",
              "    </tr>\n",
              "    <tr>\n",
              "      <th>4</th>\n",
              "      <td>55.5</td>\n",
              "      <td>3.10</td>\n",
              "      <td>385</td>\n",
              "    </tr>\n",
              "    <tr>\n",
              "      <th>5</th>\n",
              "      <td>49.0</td>\n",
              "      <td>1.60</td>\n",
              "      <td>210</td>\n",
              "    </tr>\n",
              "    <tr>\n",
              "      <th>6</th>\n",
              "      <td>65.0</td>\n",
              "      <td>2.30</td>\n",
              "      <td>380</td>\n",
              "    </tr>\n",
              "    <tr>\n",
              "      <th>7</th>\n",
              "      <td>61.5</td>\n",
              "      <td>2.00</td>\n",
              "      <td>600</td>\n",
              "    </tr>\n",
              "    <tr>\n",
              "      <th>8</th>\n",
              "      <td>55.0</td>\n",
              "      <td>4.00</td>\n",
              "      <td>450</td>\n",
              "    </tr>\n",
              "    <tr>\n",
              "      <th>9</th>\n",
              "      <td>45.0</td>\n",
              "      <td>5.00</td>\n",
              "      <td>325</td>\n",
              "    </tr>\n",
              "    <tr>\n",
              "      <th>10</th>\n",
              "      <td>75.0</td>\n",
              "      <td>0.65</td>\n",
              "      <td>424</td>\n",
              "    </tr>\n",
              "    <tr>\n",
              "      <th>11</th>\n",
              "      <td>65.0</td>\n",
              "      <td>2.00</td>\n",
              "      <td>285</td>\n",
              "    </tr>\n",
              "  </tbody>\n",
              "</table>\n",
              "</div>\n",
              "    <div class=\"colab-df-buttons\">\n",
              "\n",
              "  <div class=\"colab-df-container\">\n",
              "    <button class=\"colab-df-convert\" onclick=\"convertToInteractive('df-10a57099-5c93-48c4-90d5-39307e6fcc65')\"\n",
              "            title=\"Convert this dataframe to an interactive table.\"\n",
              "            style=\"display:none;\">\n",
              "\n",
              "  <svg xmlns=\"http://www.w3.org/2000/svg\" height=\"24px\" viewBox=\"0 -960 960 960\">\n",
              "    <path d=\"M120-120v-720h720v720H120Zm60-500h600v-160H180v160Zm220 220h160v-160H400v160Zm0 220h160v-160H400v160ZM180-400h160v-160H180v160Zm440 0h160v-160H620v160ZM180-180h160v-160H180v160Zm440 0h160v-160H620v160Z\"/>\n",
              "  </svg>\n",
              "    </button>\n",
              "\n",
              "  <style>\n",
              "    .colab-df-container {\n",
              "      display:flex;\n",
              "      gap: 12px;\n",
              "    }\n",
              "\n",
              "    .colab-df-convert {\n",
              "      background-color: #E8F0FE;\n",
              "      border: none;\n",
              "      border-radius: 50%;\n",
              "      cursor: pointer;\n",
              "      display: none;\n",
              "      fill: #1967D2;\n",
              "      height: 32px;\n",
              "      padding: 0 0 0 0;\n",
              "      width: 32px;\n",
              "    }\n",
              "\n",
              "    .colab-df-convert:hover {\n",
              "      background-color: #E2EBFA;\n",
              "      box-shadow: 0px 1px 2px rgba(60, 64, 67, 0.3), 0px 1px 3px 1px rgba(60, 64, 67, 0.15);\n",
              "      fill: #174EA6;\n",
              "    }\n",
              "\n",
              "    .colab-df-buttons div {\n",
              "      margin-bottom: 4px;\n",
              "    }\n",
              "\n",
              "    [theme=dark] .colab-df-convert {\n",
              "      background-color: #3B4455;\n",
              "      fill: #D2E3FC;\n",
              "    }\n",
              "\n",
              "    [theme=dark] .colab-df-convert:hover {\n",
              "      background-color: #434B5C;\n",
              "      box-shadow: 0px 1px 3px 1px rgba(0, 0, 0, 0.15);\n",
              "      filter: drop-shadow(0px 1px 2px rgba(0, 0, 0, 0.3));\n",
              "      fill: #FFFFFF;\n",
              "    }\n",
              "  </style>\n",
              "\n",
              "    <script>\n",
              "      const buttonEl =\n",
              "        document.querySelector('#df-10a57099-5c93-48c4-90d5-39307e6fcc65 button.colab-df-convert');\n",
              "      buttonEl.style.display =\n",
              "        google.colab.kernel.accessAllowed ? 'block' : 'none';\n",
              "\n",
              "      async function convertToInteractive(key) {\n",
              "        const element = document.querySelector('#df-10a57099-5c93-48c4-90d5-39307e6fcc65');\n",
              "        const dataTable =\n",
              "          await google.colab.kernel.invokeFunction('convertToInteractive',\n",
              "                                                    [key], {});\n",
              "        if (!dataTable) return;\n",
              "\n",
              "        const docLinkHtml = 'Like what you see? Visit the ' +\n",
              "          '<a target=\"_blank\" href=https://colab.research.google.com/notebooks/data_table.ipynb>data table notebook</a>'\n",
              "          + ' to learn more about interactive tables.';\n",
              "        element.innerHTML = '';\n",
              "        dataTable['output_type'] = 'display_data';\n",
              "        await google.colab.output.renderOutput(dataTable, element);\n",
              "        const docLink = document.createElement('div');\n",
              "        docLink.innerHTML = docLinkHtml;\n",
              "        element.appendChild(docLink);\n",
              "      }\n",
              "    </script>\n",
              "  </div>\n",
              "\n",
              "\n",
              "<div id=\"df-6985e781-1553-44c1-8c13-3d63b1c1fb26\">\n",
              "  <button class=\"colab-df-quickchart\" onclick=\"quickchart('df-6985e781-1553-44c1-8c13-3d63b1c1fb26')\"\n",
              "            title=\"Suggest charts\"\n",
              "            style=\"display:none;\">\n",
              "\n",
              "<svg xmlns=\"http://www.w3.org/2000/svg\" height=\"24px\"viewBox=\"0 0 24 24\"\n",
              "     width=\"24px\">\n",
              "    <g>\n",
              "        <path d=\"M19 3H5c-1.1 0-2 .9-2 2v14c0 1.1.9 2 2 2h14c1.1 0 2-.9 2-2V5c0-1.1-.9-2-2-2zM9 17H7v-7h2v7zm4 0h-2V7h2v10zm4 0h-2v-4h2v4z\"/>\n",
              "    </g>\n",
              "</svg>\n",
              "  </button>\n",
              "\n",
              "<style>\n",
              "  .colab-df-quickchart {\n",
              "      --bg-color: #E8F0FE;\n",
              "      --fill-color: #1967D2;\n",
              "      --hover-bg-color: #E2EBFA;\n",
              "      --hover-fill-color: #174EA6;\n",
              "      --disabled-fill-color: #AAA;\n",
              "      --disabled-bg-color: #DDD;\n",
              "  }\n",
              "\n",
              "  [theme=dark] .colab-df-quickchart {\n",
              "      --bg-color: #3B4455;\n",
              "      --fill-color: #D2E3FC;\n",
              "      --hover-bg-color: #434B5C;\n",
              "      --hover-fill-color: #FFFFFF;\n",
              "      --disabled-bg-color: #3B4455;\n",
              "      --disabled-fill-color: #666;\n",
              "  }\n",
              "\n",
              "  .colab-df-quickchart {\n",
              "    background-color: var(--bg-color);\n",
              "    border: none;\n",
              "    border-radius: 50%;\n",
              "    cursor: pointer;\n",
              "    display: none;\n",
              "    fill: var(--fill-color);\n",
              "    height: 32px;\n",
              "    padding: 0;\n",
              "    width: 32px;\n",
              "  }\n",
              "\n",
              "  .colab-df-quickchart:hover {\n",
              "    background-color: var(--hover-bg-color);\n",
              "    box-shadow: 0 1px 2px rgba(60, 64, 67, 0.3), 0 1px 3px 1px rgba(60, 64, 67, 0.15);\n",
              "    fill: var(--button-hover-fill-color);\n",
              "  }\n",
              "\n",
              "  .colab-df-quickchart-complete:disabled,\n",
              "  .colab-df-quickchart-complete:disabled:hover {\n",
              "    background-color: var(--disabled-bg-color);\n",
              "    fill: var(--disabled-fill-color);\n",
              "    box-shadow: none;\n",
              "  }\n",
              "\n",
              "  .colab-df-spinner {\n",
              "    border: 2px solid var(--fill-color);\n",
              "    border-color: transparent;\n",
              "    border-bottom-color: var(--fill-color);\n",
              "    animation:\n",
              "      spin 1s steps(1) infinite;\n",
              "  }\n",
              "\n",
              "  @keyframes spin {\n",
              "    0% {\n",
              "      border-color: transparent;\n",
              "      border-bottom-color: var(--fill-color);\n",
              "      border-left-color: var(--fill-color);\n",
              "    }\n",
              "    20% {\n",
              "      border-color: transparent;\n",
              "      border-left-color: var(--fill-color);\n",
              "      border-top-color: var(--fill-color);\n",
              "    }\n",
              "    30% {\n",
              "      border-color: transparent;\n",
              "      border-left-color: var(--fill-color);\n",
              "      border-top-color: var(--fill-color);\n",
              "      border-right-color: var(--fill-color);\n",
              "    }\n",
              "    40% {\n",
              "      border-color: transparent;\n",
              "      border-right-color: var(--fill-color);\n",
              "      border-top-color: var(--fill-color);\n",
              "    }\n",
              "    60% {\n",
              "      border-color: transparent;\n",
              "      border-right-color: var(--fill-color);\n",
              "    }\n",
              "    80% {\n",
              "      border-color: transparent;\n",
              "      border-right-color: var(--fill-color);\n",
              "      border-bottom-color: var(--fill-color);\n",
              "    }\n",
              "    90% {\n",
              "      border-color: transparent;\n",
              "      border-bottom-color: var(--fill-color);\n",
              "    }\n",
              "  }\n",
              "</style>\n",
              "\n",
              "  <script>\n",
              "    async function quickchart(key) {\n",
              "      const quickchartButtonEl =\n",
              "        document.querySelector('#' + key + ' button');\n",
              "      quickchartButtonEl.disabled = true;  // To prevent multiple clicks.\n",
              "      quickchartButtonEl.classList.add('colab-df-spinner');\n",
              "      try {\n",
              "        const charts = await google.colab.kernel.invokeFunction(\n",
              "            'suggestCharts', [key], {});\n",
              "      } catch (error) {\n",
              "        console.error('Error during call to suggestCharts:', error);\n",
              "      }\n",
              "      quickchartButtonEl.classList.remove('colab-df-spinner');\n",
              "      quickchartButtonEl.classList.add('colab-df-quickchart-complete');\n",
              "    }\n",
              "    (() => {\n",
              "      let quickchartButtonEl =\n",
              "        document.querySelector('#df-6985e781-1553-44c1-8c13-3d63b1c1fb26 button');\n",
              "      quickchartButtonEl.style.display =\n",
              "        google.colab.kernel.accessAllowed ? 'block' : 'none';\n",
              "    })();\n",
              "  </script>\n",
              "</div>\n",
              "\n",
              "  <div id=\"id_abf0cad0-2cd1-4eb9-9f24-e59f3660f200\">\n",
              "    <style>\n",
              "      .colab-df-generate {\n",
              "        background-color: #E8F0FE;\n",
              "        border: none;\n",
              "        border-radius: 50%;\n",
              "        cursor: pointer;\n",
              "        display: none;\n",
              "        fill: #1967D2;\n",
              "        height: 32px;\n",
              "        padding: 0 0 0 0;\n",
              "        width: 32px;\n",
              "      }\n",
              "\n",
              "      .colab-df-generate:hover {\n",
              "        background-color: #E2EBFA;\n",
              "        box-shadow: 0px 1px 2px rgba(60, 64, 67, 0.3), 0px 1px 3px 1px rgba(60, 64, 67, 0.15);\n",
              "        fill: #174EA6;\n",
              "      }\n",
              "\n",
              "      [theme=dark] .colab-df-generate {\n",
              "        background-color: #3B4455;\n",
              "        fill: #D2E3FC;\n",
              "      }\n",
              "\n",
              "      [theme=dark] .colab-df-generate:hover {\n",
              "        background-color: #434B5C;\n",
              "        box-shadow: 0px 1px 3px 1px rgba(0, 0, 0, 0.15);\n",
              "        filter: drop-shadow(0px 1px 2px rgba(0, 0, 0, 0.3));\n",
              "        fill: #FFFFFF;\n",
              "      }\n",
              "    </style>\n",
              "    <button class=\"colab-df-generate\" onclick=\"generateWithVariable('df')\"\n",
              "            title=\"Generate code using this dataframe.\"\n",
              "            style=\"display:none;\">\n",
              "\n",
              "  <svg xmlns=\"http://www.w3.org/2000/svg\" height=\"24px\"viewBox=\"0 0 24 24\"\n",
              "       width=\"24px\">\n",
              "    <path d=\"M7,19H8.4L18.45,9,17,7.55,7,17.6ZM5,21V16.75L18.45,3.32a2,2,0,0,1,2.83,0l1.4,1.43a1.91,1.91,0,0,1,.58,1.4,1.91,1.91,0,0,1-.58,1.4L9.25,21ZM18.45,9,17,7.55Zm-12,3A5.31,5.31,0,0,0,4.9,8.1,5.31,5.31,0,0,0,1,6.5,5.31,5.31,0,0,0,4.9,4.9,5.31,5.31,0,0,0,6.5,1,5.31,5.31,0,0,0,8.1,4.9,5.31,5.31,0,0,0,12,6.5,5.46,5.46,0,0,0,6.5,12Z\"/>\n",
              "  </svg>\n",
              "    </button>\n",
              "    <script>\n",
              "      (() => {\n",
              "      const buttonEl =\n",
              "        document.querySelector('#id_abf0cad0-2cd1-4eb9-9f24-e59f3660f200 button.colab-df-generate');\n",
              "      buttonEl.style.display =\n",
              "        google.colab.kernel.accessAllowed ? 'block' : 'none';\n",
              "\n",
              "      buttonEl.onclick = () => {\n",
              "        google.colab.notebook.generateWithVariable('df');\n",
              "      }\n",
              "      })();\n",
              "    </script>\n",
              "  </div>\n",
              "\n",
              "    </div>\n",
              "  </div>\n"
            ],
            "application/vnd.google.colaboratory.intrinsic+json": {
              "type": "dataframe",
              "variable_name": "df",
              "summary": "{\n  \"name\": \"df\",\n  \"rows\": 12,\n  \"fields\": [\n    {\n      \"column\": \"y\",\n      \"properties\": {\n        \"dtype\": \"number\",\n        \"std\": 9.506775892950664,\n        \"min\": 45.0,\n        \"max\": 75.0,\n        \"num_unique_values\": 9,\n        \"samples\": [\n          61.5,\n          51.0,\n          49.0\n        ],\n        \"semantic_type\": \"\",\n        \"description\": \"\"\n      }\n    },\n    {\n      \"column\": \"x1\",\n      \"properties\": {\n        \"dtype\": \"number\",\n        \"std\": 1.2550805841567596,\n        \"min\": 0.65,\n        \"max\": 5.0,\n        \"num_unique_values\": 11,\n        \"samples\": [\n          1.6,\n          1.5,\n          5.0\n        ],\n        \"semantic_type\": \"\",\n        \"description\": \"\"\n      }\n    },\n    {\n      \"column\": \"x2\",\n      \"properties\": {\n        \"dtype\": \"number\",\n        \"std\": 101,\n        \"min\": 210,\n        \"max\": 600,\n        \"num_unique_values\": 10,\n        \"samples\": [\n          424,\n          450,\n          380\n        ],\n        \"semantic_type\": \"\",\n        \"description\": \"\"\n      }\n    }\n  ]\n}"
            }
          },
          "metadata": {},
          "execution_count": 17
        }
      ]
    },
    {
      "cell_type": "code",
      "source": [
        "data = df.to_numpy()\n",
        "print(data)"
      ],
      "metadata": {
        "id": "Aea7r-3KKN-M",
        "outputId": "a837b6bd-2595-4484-ad14-22911026d482",
        "colab": {
          "base_uri": "https://localhost:8080/"
        }
      },
      "execution_count": 18,
      "outputs": [
        {
          "output_type": "stream",
          "name": "stdout",
          "text": [
            "[[ 55.     1.5  350.  ]\n",
            " [ 51.     3.   450.  ]\n",
            " [ 60.     1.75 300.  ]\n",
            " [ 75.     1.   450.  ]\n",
            " [ 55.5    3.1  385.  ]\n",
            " [ 49.     1.6  210.  ]\n",
            " [ 65.     2.3  380.  ]\n",
            " [ 61.5    2.   600.  ]\n",
            " [ 55.     4.   450.  ]\n",
            " [ 45.     5.   325.  ]\n",
            " [ 75.     0.65 424.  ]\n",
            " [ 65.     2.   285.  ]]\n"
          ]
        }
      ]
    },
    {
      "cell_type": "code",
      "source": [
        "y = data[:, 0]\n",
        "x1 = data[:, 1]\n",
        "x2 = data[:, 2]\n",
        "\n",
        "print(\"y:\", y)\n",
        "print(\"x1:\", x1)\n",
        "print(\"x2:\", x2)"
      ],
      "metadata": {
        "id": "UmOyKfgmKkhb",
        "outputId": "6744a65c-db05-4f54-e768-0d235dc9586a",
        "colab": {
          "base_uri": "https://localhost:8080/"
        }
      },
      "execution_count": 19,
      "outputs": [
        {
          "output_type": "stream",
          "name": "stdout",
          "text": [
            "y: [55.  51.  60.  75.  55.5 49.  65.  61.5 55.  45.  75.  65. ]\n",
            "x1: [1.5  3.   1.75 1.   3.1  1.6  2.3  2.   4.   5.   0.65 2.  ]\n",
            "x2: [350. 450. 300. 450. 385. 210. 380. 600. 450. 325. 424. 285.]\n"
          ]
        }
      ]
    },
    {
      "cell_type": "code",
      "source": [
        "# Model A: Price Based on Distance to Downtown\n",
        "model_distance = keras.Sequential([\n",
        "    keras.layers.Dense(units=1, input_shape=[1])\n",
        "])"
      ],
      "metadata": {
        "id": "U8EJTEOlMg7H",
        "outputId": "053fd074-0707-4315-c9e5-466f312073e6",
        "colab": {
          "base_uri": "https://localhost:8080/"
        }
      },
      "execution_count": 20,
      "outputs": [
        {
          "output_type": "stream",
          "name": "stderr",
          "text": [
            "/usr/local/lib/python3.11/dist-packages/keras/src/layers/core/dense.py:87: UserWarning: Do not pass an `input_shape`/`input_dim` argument to a layer. When using Sequential models, prefer using an `Input(shape)` object as the first layer in the model instead.\n",
            "  super().__init__(activity_regularizer=activity_regularizer, **kwargs)\n"
          ]
        }
      ]
    },
    {
      "cell_type": "code",
      "source": [
        "# Compile with Stochastic Gradient Descent and Mean Squared Error loss\n",
        "model_distance.compile(optimizer='sgd', loss='mean_squared_error')"
      ],
      "metadata": {
        "id": "lDnnvk2pMq68"
      },
      "execution_count": 21,
      "outputs": []
    },
    {
      "cell_type": "code",
      "source": [
        "# Train the model\n",
        "model_distance.fit(x1, y, epochs=500,verbose =0)"
      ],
      "metadata": {
        "collapsed": true,
        "id": "7CpWL7o8MsSa",
        "outputId": "62378929-f73d-4ad0-ef7e-188fa1bd752f",
        "colab": {
          "base_uri": "https://localhost:8080/"
        }
      },
      "execution_count": 22,
      "outputs": [
        {
          "output_type": "execute_result",
          "data": {
            "text/plain": [
              "<keras.src.callbacks.history.History at 0x7b9880156ed0>"
            ]
          },
          "metadata": {},
          "execution_count": 22
        }
      ]
    },
    {
      "cell_type": "code",
      "source": [
        "# Predict the price for a new distance, e.g., 2.5 km from downtown.\n",
        "distance_input = np.array([2.5])\n",
        "predicted_price_thousands_distance = model_distance.predict(distance_input)"
      ],
      "metadata": {
        "id": "xUHGCrsgMsUw",
        "outputId": "ace4186d-10df-4a22-8605-733e30b9c275",
        "colab": {
          "base_uri": "https://localhost:8080/"
        }
      },
      "execution_count": 23,
      "outputs": [
        {
          "output_type": "stream",
          "name": "stdout",
          "text": [
            "\u001b[1m1/1\u001b[0m \u001b[32m━━━━━━━━━━━━━━━━━━━━\u001b[0m\u001b[37m\u001b[0m \u001b[1m0s\u001b[0m 146ms/step\n"
          ]
        }
      ]
    },
    {
      "cell_type": "code",
      "source": [
        "# Convert to dollars:\n",
        "predicted_price_distance = predicted_price_thousands_distance * 1000\n",
        "print(\"Predicted price based on distance (for 2.5 km): ${:.2f}\".format(predicted_price_distance[0][0]))"
      ],
      "metadata": {
        "id": "jSqVXjV8NLgG",
        "outputId": "aa163647-2751-465c-9c8e-ee87af6ffe32",
        "colab": {
          "base_uri": "https://localhost:8080/"
        }
      },
      "execution_count": 24,
      "outputs": [
        {
          "output_type": "stream",
          "name": "stdout",
          "text": [
            "Predicted price based on distance (for 2.5 km): $57129.98\n"
          ]
        }
      ]
    },
    {
      "cell_type": "code",
      "source": [
        "plt.figure(figsize=(6,4))\n",
        "plt.scatter(x1, y, color='blue', label='Data')\n",
        "plt.plot(x1, model_distance.predict(x1), color='red', label='Model fit')\n",
        "plt.xlabel('Distance from Downtown (km)')\n",
        "plt.ylabel('Price ($1000)')\n",
        "plt.title('Apartment Price vs. Distance')\n",
        "plt.legend()\n",
        "plt.show()"
      ],
      "metadata": {
        "id": "NRVEUiiLNQC-",
        "outputId": "0b7422dc-144d-4267-ff14-bf6c1b994e85",
        "colab": {
          "base_uri": "https://localhost:8080/",
          "height": 428
        }
      },
      "execution_count": 25,
      "outputs": [
        {
          "output_type": "stream",
          "name": "stdout",
          "text": [
            "\u001b[1m1/1\u001b[0m \u001b[32m━━━━━━━━━━━━━━━━━━━━\u001b[0m\u001b[37m\u001b[0m \u001b[1m0s\u001b[0m 148ms/step\n"
          ]
        },
        {
          "output_type": "display_data",
          "data": {
            "text/plain": [
              "<Figure size 600x400 with 1 Axes>"
            ],
            "image/png": "[encoded data removed]"
          },
          "metadata": {}
        }
      ]
    },
    {
      "cell_type": "code",
      "source": [
        "# Model B: Price Based on Size\n",
        "# Normalize x2 (divide by the maximum value)\n",
        "x2_norm = x2 / np.max(x2)"
      ],
      "metadata": {
        "id": "u83CnfCVQLTC"
      },
      "execution_count": 26,
      "outputs": []
    },
    {
      "cell_type": "code",
      "source": [
        "model_size = keras.Sequential([\n",
        "    keras.layers.Dense(units=1, input_shape=[1])\n",
        "])"
      ],
      "metadata": {
        "id": "3D-KJZvZNYaq"
      },
      "execution_count": 27,
      "outputs": []
    },
    {
      "cell_type": "code",
      "source": [
        "model_size.compile(optimizer='sgd', loss='mean_squared_error')"
      ],
      "metadata": {
        "id": "MO9rjLuoNY_G"
      },
      "execution_count": 28,
      "outputs": []
    },
    {
      "cell_type": "code",
      "source": [
        "model_size.fit(x2_norm, y, epochs=500,verbose =0)"
      ],
      "metadata": {
        "collapsed": true,
        "id": "6ZmWbiM3ORyh",
        "outputId": "799c460a-d277-4338-f25d-c0f31efc9255",
        "colab": {
          "base_uri": "https://localhost:8080/"
        }
      },
      "execution_count": 29,
      "outputs": [
        {
          "output_type": "execute_result",
          "data": {
            "text/plain": [
              "<keras.src.callbacks.history.History at 0x7b986ff77090>"
            ]
          },
          "metadata": {},
          "execution_count": 29
        }
      ]
    },
    {
      "cell_type": "code",
      "source": [
        "# Predict the price for an apartment of 400 sq ft.\n",
        "new_size = 400\n",
        "new_size_norm = new_size / np.max(x2)  # Normalize the input\n",
        "predicted_price_thousands_size = model_size.predict(np.array([new_size_norm]))\n",
        "predicted_price_size = predicted_price_thousands_size * 1000\n",
        "print(\"Predicted price based on size (for 400 sq ft): ${:.2f}\".format(predicted_price_size[0][0]))"
      ],
      "metadata": {
        "id": "9QWnvbq9NZBa",
        "outputId": "4b465ae8-84f1-4381-fa63-f6c5481d6f1d",
        "colab": {
          "base_uri": "https://localhost:8080/"
        }
      },
      "execution_count": 30,
      "outputs": [
        {
          "output_type": "stream",
          "name": "stdout",
          "text": [
            "\u001b[1m1/1\u001b[0m \u001b[32m━━━━━━━━━━━━━━━━━━━━\u001b[0m\u001b[37m\u001b[0m \u001b[1m0s\u001b[0m 102ms/step\n",
            "Predicted price based on size (for 400 sq ft): $59922.11\n"
          ]
        }
      ]
    },
    {
      "cell_type": "code",
      "source": [
        "plt.figure(figsize=(6,4))\n",
        "plt.scatter(x2_norm, y, color='green', label='Normalized Data')\n",
        "plt.plot(x2_norm, model_size.predict(x2_norm), color='orange', label='Model Fit')\n",
        "plt.xlabel('Normalized Apartment Size')\n",
        "plt.ylabel('Price ($1000)')\n",
        "plt.title('Apartment Price vs. Normalized Size')\n",
        "plt.legend()\n",
        "plt.show()"
      ],
      "metadata": {
        "id": "-BbHNg9GNZEC",
        "outputId": "c7330848-c4cd-405d-c132-35cc9083e412",
        "colab": {
          "base_uri": "https://localhost:8080/",
          "height": 466
        }
      },
      "execution_count": 31,
      "outputs": [
        {
          "output_type": "stream",
          "name": "stderr",
          "text": [
            "WARNING:tensorflow:5 out of the last 5 calls to <function TensorFlowTrainer.make_predict_function.<locals>.one_step_on_data_distributed at 0x7b986ff21300> triggered tf.function retracing. Tracing is expensive and the excessive number of tracings could be due to (1) creating @tf.function repeatedly in a loop, (2) passing tensors with different shapes, (3) passing Python objects instead of tensors. For (1), please define your @tf.function outside of the loop. For (2), @tf.function has reduce_retracing=True option that can avoid unnecessary retracing. For (3), please refer to https://www.tensorflow.org/guide/function#controlling_retracing and https://www.tensorflow.org/api_docs/python/tf/function for  more details.\n"
          ]
        },
        {
          "output_type": "stream",
          "name": "stdout",
          "text": [
            "\u001b[1m1/1\u001b[0m \u001b[32m━━━━━━━━━━━━━━━━━━━━\u001b[0m\u001b[37m\u001b[0m \u001b[1m0s\u001b[0m 107ms/step\n"
          ]
        },
        {
          "output_type": "display_data",
          "data": {
            "text/plain": [
              "<Figure size 600x400 with 1 Axes>"
            ],
            "image/png": "[encoded data removed]"
          },
          "metadata": {}
        }
      ]
    },
    {
      "cell_type": "markdown",
      "source": [
        "**Question:\n",
        "Now, keeping things simple and avoiding the use of multivariable regressions, can you guess a simple way to combine both parameters, assuming they are equally important in the final house decision?**\n",
        "\n"
      ],
      "metadata": {
        "id": "xQ_wvkk-RfPZ"
      }
    },
    {
      "cell_type": "code",
      "source": [],
      "metadata": {
        "id": "-gl9AkR6R7zQ"
      },
      "execution_count": 31,
      "outputs": []
    },
    {
      "cell_type": "markdown",
      "source": [
        "Averaging the Predictions: Train two separate models and average their outputs.\n",
        "Averaging the Inputs: Normalize both parameters, average them to form a single composite feature, then train one model.\n",
        "Both methods are simple and reflect the assumption that distance and size are equally important in determining the final price."
      ],
      "metadata": {
        "id": "a_w4p2jURfpd"
      }
    },
    {
      "cell_type": "code",
      "source": [],
      "metadata": {
        "id": "HmtlJxvcRhYG"
      },
      "execution_count": 31,
      "outputs": []
    }
  ],
  "metadata": {
    "colab": {
      "name": "Notebook1.1.ipynb",
      "provenance": [],
      "gpuType": "T4",
      "include_colab_link": true
    },
    "kernelspec": {
      "display_name": "Python 3",
      "name": "python3"
    },
    "language_info": {
      "codemirror_mode": {
        "name": "ipython",
        "version": 3
      },
      "file_extension": ".py",
      "mimetype": "text/x-python",
      "name": "python",
      "nbconvert_exporter": "python",
      "pygments_lexer": "ipython3",
      "version": "3.10.11"
    },
    "accelerator": "GPU"
  },
  "nbformat": 4,
  "nbformat_minor": 0
}