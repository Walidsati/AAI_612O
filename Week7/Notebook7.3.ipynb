{
  "cells": [
    {
      "cell_type": "markdown",
      "metadata": {
        "id": "view-in-github",
        "colab_type": "text"
      },
      "source": [
        "<a href=\"https://colab.research.google.com/github/Walidsati/AAI_612O/blob/main/Week7/Notebook7.3.ipynb\" target=\"_parent\"><img src=\"https://colab.research.google.com/assets/colab-badge.svg\" alt=\"Open In Colab\"/></a>"
      ]
    },
    {
      "cell_type": "markdown",
      "metadata": {
        "id": "RguEDPpyo6IM"
      },
      "source": [
        "# AAI612: Deep Learning & its Applications\n",
        "\n",
        "*Notebook 7.3: Loading Pretrained Embeddings*\n",
        "\n"
      ]
    },
    {
      "cell_type": "code",
      "execution_count": 1,
      "metadata": {
        "id": "ITC6HwNUo6IN",
        "outputId": "01ba8d2e-19ed-480b-b3fd-e454a26eefae",
        "colab": {
          "base_uri": "https://localhost:8080/",
          "height": 178
        }
      },
      "outputs": [
        {
          "output_type": "execute_result",
          "data": {
            "text/plain": [
              "'\\nThe MIT License (MIT)\\nCopyright (c) 2021 NVIDIA\\nPermission is hereby granted, free of charge, to any person obtaining a copy of\\nthis software and associated documentation files (the \"Software\"), to deal in\\nthex Software without restriction, including without limitation the rights to\\nuse, copy, modify, merge, publish, distribute, sublicense, and/or sell copies of\\nthe Software, and to permit persons to whom the Software is furnished to do so,\\nsubject to the following conditions:\\nThe above copyright notice and this permission notice shall be included in all\\ncopies or substantial portions of the Software.\\nTHE SOFTWARE IS PROVIDED \"AS IS\", WITHOUT WARRANTY OF ANY KIND, EXPRESS OR\\nIMPLIED, INCLUDING BUT NOT LIMITED TO THE WARRANTIES OF MERCHANTABILITY, FITNESS\\nFOR A PARTICULAR PURPOSE AND NONINFRINGEMENT. IN NO EVENT SHALL THE AUTHORS OR\\nCOPYRIGHT HOLDERS BE LIABLE FOR ANY CLAIM, DAMAGES OR OTHER LIABILITY, WHETHER\\nIN AN ACTION OF CONTRACT, TORT OR OTHERWISE, ARISING FROM, OUT OF OR IN\\nCONNECTION WITH THE SOFTWARE OR THE USE OR OTHER DEALINGS IN THE SOFTWARE.\\n'"
            ],
            "application/vnd.google.colaboratory.intrinsic+json": {
              "type": "string"
            }
          },
          "metadata": {},
          "execution_count": 1
        }
      ],
      "source": [
        "\"\"\"\n",
        "The MIT License (MIT)\n",
        "Copyright (c) 2021 NVIDIA\n",
        "Permission is hereby granted, free of charge, to any person obtaining a copy of\n",
        "this software and associated documentation files (the \"Software\"), to deal in\n",
        "thex Software without restriction, including without limitation the rights to\n",
        "use, copy, modify, merge, publish, distribute, sublicense, and/or sell copies of\n",
        "the Software, and to permit persons to whom the Software is furnished to do so,\n",
        "subject to the following conditions:\n",
        "The above copyright notice and this permission notice shall be included in all\n",
        "copies or substantial portions of the Software.\n",
        "THE SOFTWARE IS PROVIDED \"AS IS\", WITHOUT WARRANTY OF ANY KIND, EXPRESS OR\n",
        "IMPLIED, INCLUDING BUT NOT LIMITED TO THE WARRANTIES OF MERCHANTABILITY, FITNESS\n",
        "FOR A PARTICULAR PURPOSE AND NONINFRINGEMENT. IN NO EVENT SHALL THE AUTHORS OR\n",
        "COPYRIGHT HOLDERS BE LIABLE FOR ANY CLAIM, DAMAGES OR OTHER LIABILITY, WHETHER\n",
        "IN AN ACTION OF CONTRACT, TORT OR OTHERWISE, ARISING FROM, OUT OF OR IN\n",
        "CONNECTION WITH THE SOFTWARE OR THE USE OR OTHER DEALINGS IN THE SOFTWARE.\n",
        "\"\"\""
      ]
    },
    {
      "cell_type": "markdown",
      "metadata": {
        "id": "A6bbKBjco6IO"
      },
      "source": [
        "## gloVe"
      ]
    },
    {
      "cell_type": "markdown",
      "metadata": {
        "id": "ECPJB0deo6IO"
      },
      "source": [
        "Download and unzip the precomputed embeddings from 2014 English Wikipedia `glove.6B.zip` from Go to https://nlp.stanford.edu/projects/glove. It’s an 822 MB zip file called glove.6B.zip, containing 100-dimensional embedding vectors for 400,000 words (or nonword tokens). Unzip it inside a directory `data`.  Keep the file `glove.6B.100d.txt` an delete the rest."
      ]
    },
    {
      "cell_type": "markdown",
      "metadata": {
        "id": "8XLySIjRo6IP"
      },
      "source": [
        "### Preproessing the Embeddings"
      ]
    },
    {
      "cell_type": "markdown",
      "metadata": {
        "tags": [],
        "id": "2ZkXeWTMo6IP"
      },
      "source": [
        "Read the embeddings.  Start by opening the file and read it line by line. Split each line into its elements. Extract the first element, which represents the word itself, and then create a vector from the remaining elements and insert the word and the corresponding vector into a dictionary, which serves as the return value of the function."
      ]
    },
    {
      "cell_type": "code",
      "execution_count": 11,
      "metadata": {
        "tags": [],
        "id": "mOa8Pw8jo6IP"
      },
      "outputs": [],
      "source": [
        "import numpy as np\n",
        "import scipy.spatial\n",
        "\n",
        "# Read embeddings from file.\n",
        "def read_embeddings():\n",
        "    FILE_NAME = '/content/glove.6B.100d.txt'\n",
        "    embeddings = {}\n",
        "    file = open(FILE_NAME, 'r', encoding='utf-8')\n",
        "    for line in file:\n",
        "        values = line.split()\n",
        "        word = values[0]\n",
        "        vector = np.asarray(values[1:], dtype='float32')\n",
        "        embeddings[word] = vector\n",
        "    file.close()\n",
        "    print('Read %s embeddings.' % len(embeddings))\n",
        "    return embeddings"
      ]
    },
    {
      "cell_type": "markdown",
      "metadata": {
        "id": "KCKqEF2_o6IP"
      },
      "source": [
        "Compute the cosine distance between a specific embedding and all other embeddings. It then prints the n closest ones.  Euclidean distance would also have worked fine, but the results would sometimes be different because the GloVe vectors are not normalized."
      ]
    },
    {
      "cell_type": "code",
      "execution_count": 12,
      "metadata": {
        "id": "ngpm5vYlo6IP"
      },
      "outputs": [],
      "source": [
        "\n",
        "def print_n_closest(embeddings, vec0, n):\n",
        "    word_distances = {}\n",
        "    for (word, vec1) in embeddings.items():\n",
        "        distance = scipy.spatial.distance.cosine(vec1, vec0)\n",
        "        word_distances[distance] = word\n",
        "    # Print words sorted by distance.\n",
        "    for distance in sorted(word_distances.keys())[:n]:\n",
        "        word = word_distances[distance]\n",
        "        print(word + ': %6.3f' % distance)"
      ]
    },
    {
      "cell_type": "markdown",
      "metadata": {
        "tags": [],
        "id": "GKlgzx89o6IP"
      },
      "source": [
        "First read the embeddings by invoking `read_embeddings()`"
      ]
    },
    {
      "cell_type": "code",
      "execution_count": 13,
      "metadata": {
        "id": "5GoUM_0go6IP",
        "outputId": "0b81078e-c723-46b8-8e54-e5204803a8fe",
        "colab": {
          "base_uri": "https://localhost:8080/"
        }
      },
      "outputs": [
        {
          "output_type": "stream",
          "name": "stdout",
          "text": [
            "Read 400000 embeddings.\n"
          ]
        }
      ],
      "source": [
        "embeddings = read_embeddings()"
      ]
    },
    {
      "cell_type": "markdown",
      "metadata": {
        "id": "_hfwR0Dso6IQ"
      },
      "source": [
        "Retrieve the embeddings for **hello** and print closest emebdding using `print_n_closest()`"
      ]
    },
    {
      "cell_type": "code",
      "execution_count": 14,
      "metadata": {
        "id": "91TShEEXo6IQ",
        "outputId": "a4a399cc-9071-491c-df17-832ce6d2dc2e",
        "colab": {
          "base_uri": "https://localhost:8080/"
        }
      },
      "outputs": [
        {
          "output_type": "stream",
          "name": "stdout",
          "text": [
            "\n",
            "Words closest to hello\n",
            "hello:  0.000\n",
            "goodbye:  0.209\n",
            "hey:  0.283\n"
          ]
        }
      ],
      "source": [
        "lookup_word = 'hello'\n",
        "print('\\nWords closest to ' + lookup_word)\n",
        "print_n_closest(embeddings, embeddings[lookup_word], 3)"
      ]
    },
    {
      "cell_type": "markdown",
      "metadata": {
        "tags": [],
        "id": "rr2B6Z4Wo6IQ"
      },
      "source": [
        "Retrieve the embeddings for **dog** and print closest emebdding using `print_n_closest()`"
      ]
    },
    {
      "cell_type": "code",
      "execution_count": 15,
      "metadata": {
        "id": "v_ImhD7Fo6IQ",
        "outputId": "326f7c52-e5c5-4429-852b-31f47da0ca3c",
        "colab": {
          "base_uri": "https://localhost:8080/"
        }
      },
      "outputs": [
        {
          "output_type": "stream",
          "name": "stdout",
          "text": [
            "\n",
            "Words closest to dog\n",
            "dog:  0.000\n",
            "cat:  0.120\n",
            "dogs:  0.166\n"
          ]
        }
      ],
      "source": [
        "lookup_word = 'dog'\n",
        "print('\\nWords closest to ' + lookup_word)\n",
        "print_n_closest(embeddings, embeddings[lookup_word], 3)"
      ]
    },
    {
      "cell_type": "markdown",
      "metadata": {
        "id": "o26YFnVHo6IQ"
      },
      "source": [
        "### What is the capital of Jordan?"
      ]
    },
    {
      "cell_type": "code",
      "execution_count": 16,
      "metadata": {
        "id": "y7tduRK0o6IQ",
        "outputId": "8e997368-ca04-470b-8e98-86b788e889d6",
        "colab": {
          "base_uri": "https://localhost:8080/"
        }
      },
      "outputs": [
        {
          "output_type": "stream",
          "name": "stdout",
          "text": [
            "amman:  0.250\n",
            "jordan:  0.268\n",
            "cairo:  0.321\n"
          ]
        }
      ],
      "source": [
        "vec = embeddings['beirut'] - embeddings['lebanon'] + embeddings['jordan']\n",
        "print_n_closest(embeddings, vec, 3)"
      ]
    },
    {
      "cell_type": "markdown",
      "metadata": {
        "id": "B_0fj8-9o6IQ"
      },
      "source": [
        "### King - man + Woman = ??"
      ]
    },
    {
      "cell_type": "markdown",
      "metadata": {
        "id": "3lX7izJko6IQ"
      },
      "source": [
        "Retrieve the embeddings for **king** and print closest emebdding using `print_n_closest()`"
      ]
    },
    {
      "cell_type": "code",
      "execution_count": 17,
      "metadata": {
        "id": "m0BpHqpwo6IQ",
        "outputId": "1567a284-635f-4881-84f4-109898a8e42c",
        "colab": {
          "base_uri": "https://localhost:8080/"
        }
      },
      "outputs": [
        {
          "output_type": "stream",
          "name": "stdout",
          "text": [
            "\n",
            "Words closest to king\n",
            "king:  0.000\n",
            "prince:  0.232\n",
            "queen:  0.249\n"
          ]
        }
      ],
      "source": [
        "lookup_word = 'king'\n",
        "print('\\nWords closest to ' + lookup_word)\n",
        "print_n_closest(embeddings, embeddings[lookup_word], 3)"
      ]
    },
    {
      "cell_type": "markdown",
      "metadata": {
        "id": "4-Ks9ijjo6IQ"
      },
      "source": [
        "Print the words closest to the vector resulting from computing `(king - man + woman).`"
      ]
    },
    {
      "cell_type": "code",
      "execution_count": 18,
      "metadata": {
        "id": "pymzuX5zo6IQ",
        "outputId": "a2abf380-63a4-4ce1-8460-5f0b8ea43c71",
        "colab": {
          "base_uri": "https://localhost:8080/"
        }
      },
      "outputs": [
        {
          "output_type": "stream",
          "name": "stdout",
          "text": [
            "\n",
            "Words closest to (king - man + woman)\n",
            "king:  0.145\n",
            "queen:  0.217\n",
            "monarch:  0.307\n"
          ]
        }
      ],
      "source": [
        "lookup_word = '(king - man + woman)'\n",
        "print('\\nWords closest to ' + lookup_word)\n",
        "vec = embeddings['king'] - embeddings['man'] + embeddings['woman']\n",
        "print_n_closest(embeddings, vec, 3)"
      ]
    },
    {
      "cell_type": "markdown",
      "metadata": {
        "id": "iGDUSNdoo6IR"
      },
      "source": [
        "### Madrid − Spain + Sweden = ?"
      ]
    },
    {
      "cell_type": "markdown",
      "metadata": {
        "tags": [],
        "id": "gb13ni7ao6IR"
      },
      "source": [
        "A more impressive example next where we first print the words closest to **sweden** and **madrid** and then print the words closest to the result from the computation `(madrid − spain + sweden).`  We would assume the answer to be `Stockholm`"
      ]
    },
    {
      "cell_type": "code",
      "execution_count": 19,
      "metadata": {
        "id": "G8eJZpnjo6IR",
        "outputId": "233ff622-3164-4035-8739-b91d36bd90f7",
        "colab": {
          "base_uri": "https://localhost:8080/"
        }
      },
      "outputs": [
        {
          "output_type": "stream",
          "name": "stdout",
          "text": [
            "\n",
            "Words closest to sweden\n",
            "sweden:  0.000\n",
            "denmark:  0.138\n",
            "norway:  0.193\n"
          ]
        }
      ],
      "source": [
        "lookup_word = 'sweden'\n",
        "print('\\nWords closest to ' + lookup_word)\n",
        "print_n_closest(embeddings, embeddings[lookup_word], 3)"
      ]
    },
    {
      "cell_type": "code",
      "execution_count": 20,
      "metadata": {
        "id": "NeIxdua3o6IR",
        "outputId": "b32d4f66-1dd5-4a5b-ec27-0374c3ec5a46",
        "colab": {
          "base_uri": "https://localhost:8080/"
        }
      },
      "outputs": [
        {
          "output_type": "stream",
          "name": "stdout",
          "text": [
            "\n",
            "Words closest to madrid\n",
            "madrid:  0.000\n",
            "barcelona:  0.157\n",
            "valencia:  0.197\n"
          ]
        }
      ],
      "source": [
        "lookup_word = 'madrid'\n",
        "print('\\nWords closest to ' + lookup_word)\n",
        "print_n_closest(embeddings, embeddings[lookup_word], 3)"
      ]
    },
    {
      "cell_type": "markdown",
      "metadata": {
        "id": "OQ09IlYao6IR"
      },
      "source": [
        "Now, print the words closest to the result from the computation `(madrid − spain + sweden).`"
      ]
    },
    {
      "cell_type": "code",
      "execution_count": 21,
      "metadata": {
        "id": "qrs7SnSPo6IR",
        "outputId": "7f8b75a5-1329-4d67-d1ac-37adb9cc8ec7",
        "colab": {
          "base_uri": "https://localhost:8080/"
        }
      },
      "outputs": [
        {
          "output_type": "stream",
          "name": "stdout",
          "text": [
            "\n",
            "Words closest to (madrid - spain + sweden)\n",
            "stockholm:  0.271\n",
            "sweden:  0.300\n",
            "copenhagen:  0.305\n"
          ]
        }
      ],
      "source": [
        "lookup_word = '(madrid - spain + sweden)'\n",
        "print('\\nWords closest to ' + lookup_word)\n",
        "vec = embeddings['madrid'] - embeddings['spain'] + embeddings['sweden']\n",
        "print_n_closest(embeddings, vec, 3)"
      ]
    },
    {
      "cell_type": "code",
      "source": [],
      "metadata": {
        "id": "bsO_Nz-f2sjW"
      },
      "execution_count": null,
      "outputs": []
    }
  ],
  "metadata": {
    "kernelspec": {
      "display_name": "Python 3",
      "language": "python",
      "name": "python3"
    },
    "language_info": {
      "codemirror_mode": {
        "name": "ipython",
        "version": 3
      },
      "file_extension": ".py",
      "mimetype": "text/x-python",
      "name": "python",
      "nbconvert_exporter": "python",
      "pygments_lexer": "ipython3",
      "version": "3.9.6"
    },
    "colab": {
      "provenance": [],
      "include_colab_link": true
    }
  },
  "nbformat": 4,
  "nbformat_minor": 0
}